{
 "cells": [
  {
   "cell_type": "code",
   "execution_count": null,
   "metadata": {},
   "outputs": [],
   "source": [
    "# download the data, data should be moved to \"data/\"\n",
    "# https://datarepo.eng.ucsd.edu/mcauley_group/gdrive/googlelocal/review-California.json.gz\n",
    "# https://datarepo.eng.ucsd.edu/mcauley_group/gdrive/googlelocal/meta-California.json.gz "
   ]
  },
  {
   "cell_type": "code",
   "execution_count": null,
   "metadata": {},
   "outputs": [],
   "source": [
    "# all necesary imports\n",
    "import numpy as np\n",
    "import defaultdict\n",
    "import pandas as pd"
   ]
  },
  {
   "cell_type": "markdown",
   "metadata": {},
   "source": [
    "# Introduction\n",
    "\n",
    "TODO: Advaith\n",
    "\n",
    "# Dataset\n",
    "\n",
    "The data set is taken from Jiacheng Li et el (2022) [1] and An Yan et el [2] whihc contains review information from Google Maps (ratings, text, images, etc) and business metadata (address, geographic info, descriptions, category information, price, open hours, etc.), and links (related businesses) up to Sep 2021 in the United States. The full dataset consists of **666,324,103 Reviews, 113,643,107 Users and 4,963,111 Businesses**. Due to storage constraints for a class project, we are taking a subset of this dataset by constraining the location to only california. The california dataset consists of:\n",
    "\n",
    "1. 70,529,977 Reviews (10.5% of the full dataset)\n",
    "2. XXXXX Users (% of the full dataset)\n",
    "3. 515,961 businesses (10.3% of the full dataset)\n",
    "\n",
    "For each review, we have the following information\n",
    "\n",
    "1. **user_id** - ID of the reviewer\n",
    "2. **name** - name of the reviewer\n",
    "3. **time** - time of the review (unix time)\n",
    "4. **rating** - rating of the business\n",
    "5. **text** - text of the review\n",
    "6. **pics** - pictures of the review\n",
    "7. **resp** - business response to the review including unix time and text of the response\n",
    "8. **gmap_id** - ID of the business\n",
    "\n",
    "For eah business, we have a metadata file with the following information\n",
    "\n",
    "1. **name** - name of the business\n",
    "2. **address** - address of the business\n",
    "3. **gmap_id** - ID of the business\n",
    "4. **description** - description of the business\n",
    "5. **latitude** - latitude of the business\n",
    "6. **longitude** - longitude of the business\n",
    "7. **category** - category of the business\n",
    "8. **avg_rating** - average rating of the business\n",
    "9. **num_of_reviews** - number of reviews\n",
    "10. **price** - price of the business\n",
    "11. **hours** - open hours\n",
    "12. **MISC** - MISC information\n",
    "13. **state** - the current status of the business (e.g., permanently closed)\n",
    "14. **relative_results** - relative businesses recommended by Google\n",
    "15. **url** - URL of the business\n",
    "\n",
    "[1]: https://arxiv.org/abs/2202.13469\n",
    "[2]: https://arxiv.org/abs/2207.00422"
   ]
  },
  {
   "cell_type": "markdown",
   "metadata": {},
   "source": [
    "### Data Cleaning\n",
    "\n",
    "TODO Ketki"
   ]
  },
  {
   "cell_type": "code",
   "execution_count": null,
   "metadata": {},
   "outputs": [],
   "source": []
  },
  {
   "cell_type": "markdown",
   "metadata": {},
   "source": [
    "### Exploratory Data Analysis (EDA)\n",
    "\n",
    "TODO: Ketki"
   ]
  },
  {
   "cell_type": "code",
   "execution_count": null,
   "metadata": {},
   "outputs": [],
   "source": []
  },
  {
   "cell_type": "markdown",
   "metadata": {},
   "source": [
    "# Predicitive Task\n",
    "\n",
    "### Research Question\n",
    "\n",
    "The study aims to create a reccomender system to predict the rating a user will give to a partiucluar business (1 to 5). As the nature of the data is geospatial and reviews have sentiment associated with their text, the model must integrate these modalites. Therefore, We will model this in 2 ways:\n",
    "\n",
    "1. Naive Modelling using TF-IDFs, average reviews, and location for a Decision Trees to create a baseline, and\n",
    "2. Use Collaboritve Filtering, TF-IDFs of Text in reviews and Geospatial Information \n",
    "\n",
    "### Evaluation\n",
    "\n"
   ]
  },
  {
   "cell_type": "markdown",
   "metadata": {},
   "source": [
    "### Model\n",
    "\n",
    "TODO: Arnav"
   ]
  },
  {
   "cell_type": "code",
   "execution_count": null,
   "metadata": {},
   "outputs": [],
   "source": []
  },
  {
   "cell_type": "markdown",
   "metadata": {},
   "source": [
    "# Results\n",
    "\n",
    "TODO: Advaith, Arnav, Ketki"
   ]
  },
  {
   "cell_type": "markdown",
   "metadata": {},
   "source": [
    "# Conclusion\n",
    "\n",
    "TODO: Advaith\n",
    "\n",
    "# Literatute/Citation Work\n",
    "\n",
    "TODO: Advaith"
   ]
  }
 ],
 "metadata": {
  "kernelspec": {
   "display_name": "cogs118a",
   "language": "python",
   "name": "python3"
  },
  "language_info": {
   "codemirror_mode": {
    "name": "ipython",
    "version": 3
   },
   "file_extension": ".py",
   "mimetype": "text/x-python",
   "name": "python",
   "nbconvert_exporter": "python",
   "pygments_lexer": "ipython3",
   "version": "3.12.7"
  }
 },
 "nbformat": 4,
 "nbformat_minor": 2
}
